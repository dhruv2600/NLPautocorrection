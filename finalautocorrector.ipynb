{
 "cells": [
  {
   "cell_type": "code",
   "execution_count": 14,
   "metadata": {},
   "outputs": [
    {
     "name": "stdout",
     "output_type": "stream",
     "text": [
      "Requirement already satisfied: rake_nltk in c:\\users\\asus\\anaconda3\\lib\\site-packages (1.0.4)\n",
      "Requirement already satisfied: nltk in c:\\users\\asus\\anaconda3\\lib\\site-packages (from rake_nltk) (3.5)\n",
      "Requirement already satisfied: click in c:\\users\\asus\\anaconda3\\lib\\site-packages (from nltk->rake_nltk) (7.1.2)\n",
      "Requirement already satisfied: joblib in c:\\users\\asus\\anaconda3\\lib\\site-packages (from nltk->rake_nltk) (0.17.0)\n",
      "Requirement already satisfied: tqdm in c:\\users\\asus\\anaconda3\\lib\\site-packages (from nltk->rake_nltk) (4.50.2)\n",
      "Requirement already satisfied: regex in c:\\users\\asus\\anaconda3\\lib\\site-packages (from nltk->rake_nltk) (2020.10.15)\n",
      "Collecting fuzzywuzzy\n",
      "  Downloading fuzzywuzzy-0.18.0-py2.py3-none-any.whl (18 kB)\n",
      "Installing collected packages: fuzzywuzzy\n",
      "Successfully installed fuzzywuzzy-0.18.0\n"
     ]
    },
    {
     "name": "stderr",
     "output_type": "stream",
     "text": [
      "[nltk_data] Downloading package punkt to\n",
      "[nltk_data]     C:\\Users\\Asus\\AppData\\Roaming\\nltk_data...\n",
      "[nltk_data]   Package punkt is already up-to-date!\n",
      "[nltk_data] Downloading package wordnet to\n",
      "[nltk_data]     C:\\Users\\Asus\\AppData\\Roaming\\nltk_data...\n",
      "[nltk_data]   Package wordnet is already up-to-date!\n"
     ]
    }
   ],
   "source": [
    "import sys\n",
    "!{sys.executable} -m pip install rake_nltk\n",
    "import sys\n",
    "!{sys.executable} -m pip install fuzzywuzzy\n",
    "import jieba\n",
    "import gensim\n",
    "import nltk\n",
    "nltk.download('punkt')\n",
    "nltk.download('wordnet')\n",
    "import math\n",
    "import re\n",
    "from rake_nltk import Rake\n",
    "from collections import Counter\n",
    "from gensim import corpora, models, similarities\n",
    "lemmer = nltk.stem.WordNetLemmatizer()\n",
    "import string"
   ]
  },
  {
   "cell_type": "code",
   "execution_count": 4,
   "metadata": {},
   "outputs": [],
   "source": [
    "class RakeImpl:\n",
    " \n",
    "    def __init__(self, text):\n",
    "        self.text = text\n",
    "        self.rake = Rake()\n",
    " \n",
    "    def getKeywords(self):\n",
    "        self.rake.extract_keywords_from_text(self.text)\n",
    "        return self.rake.get_ranked_phrases()"
   ]
  },
  {
   "cell_type": "code",
   "execution_count": 27,
   "metadata": {},
   "outputs": [],
   "source": [
    "class Eval:\n",
    "    def __init__(self,doc1,doc2,fullMarks):\n",
    "        self.doc1 = ' '.join(self.LemNormalize(doc1))\n",
    "        self.doc2 = doc2\n",
    "        self.fullMarks = fullMarks\n",
    "        self.marks = self.weightedSum()*self.fullMarks\n",
    "       \n",
    "        \n",
    "    def LemTokens(self,tokens):\n",
    "        return [lemmer.lemmatize(token) for token in tokens]\n",
    "    \n",
    "    def LemNormalize(self,text):\n",
    "        remove_punct_dict = dict((ord(punct), None) for punct in string.punctuation)\n",
    "        return self.LemTokens(nltk.word_tokenize(text.lower().translate(remove_punct_dict)))\n",
    "    \n",
    "    \n",
    "    def Jaccard_Similarity(self): \n",
    "        doc1 = self.doc1\n",
    "        doc2 = self.doc2\n",
    "        # List the unique words in a document\n",
    "        words_doc1 = set(doc1.lower().split()) \n",
    "        words_doc2 = set(doc2.lower().split())\n",
    "    \n",
    "        # Find the intersection of words list of doc1 & doc2\n",
    "        intersection = words_doc1.intersection(words_doc2)\n",
    "\n",
    "        # Find the union of words list of doc1 & doc2\n",
    "        union = words_doc1.union(words_doc2)\n",
    "        \n",
    "        # Calculate Jaccard similarity score \n",
    "        # using length of intersection set divided by length of union set\n",
    "        return float(len(intersection)) / len(union)\n",
    "\n",
    "    def text_to_vector(self,text):\n",
    "        WORD = re.compile(r\"\\w+\")\n",
    "        words = WORD.findall(text)\n",
    "        return Counter(words)\n",
    "    \n",
    "    def get_cosine(self,vec1, vec2):\n",
    "        intersection = set(vec1.keys()) & set(vec2.keys())\n",
    "        numerator = sum([vec1[x] * vec2[x] for x in intersection])\n",
    "        sum1 = sum([vec1[x] ** 2 for x in list(vec1.keys())])\n",
    "        sum2 = sum([vec2[x] ** 2 for x in list(vec2.keys())])\n",
    "        denominator = math.sqrt(sum1) * math.sqrt(sum2)\n",
    "        if not denominator:\n",
    "            return 0.0\n",
    "        else:\n",
    "            return float(numerator) / denominator\n",
    "        \n",
    "    def cosSimilarity(self):\n",
    "        keyword_inst1 = RakeImpl(self.doc1)\n",
    "        keyword_inst2 = RakeImpl(self.doc2)\n",
    "        v1 = keyword_inst1.getKeywords()\n",
    "        v2 = keyword_inst2.getKeywords()\n",
    "        str2 = ' '.join(v2)\n",
    "        str1 = ' '.join(v1)\n",
    "        vector1 = self.text_to_vector(str1)\n",
    "        vector2 = self.text_to_vector(str2)\n",
    "        x = self.get_cosine(vector1,vector2)\n",
    "        return x\n",
    "    \n",
    "    def bigramSimilarity(self):\n",
    "        tokens1 = nltk.word_tokenize(self.doc1)\n",
    "        tokens2 = nltk.word_tokenize(self.doc2)\n",
    "        bigrams1 = nltk.bigrams(tokens1)\n",
    "        bigrams2 = nltk.bigrams(tokens2)\n",
    "        frequency1 = nltk.FreqDist(bigrams1)\n",
    "        frequency2 = nltk.FreqDist(bigrams2)\n",
    "        count=0\n",
    "        for key in frequency1.items():\n",
    "            if key in frequency2.items():\n",
    "                count=count+1\n",
    "        l1=len(frequency1)\n",
    "        l2=len(frequency2)\n",
    "        avg=(l1+l2)/2\n",
    "        similarity=count/avg\n",
    "        return similarity       \n",
    "    \n",
    "    def fuzzyMarks(self):\n",
    "        return fuzz.ratio(self.doc1, self.doc2)\n",
    "    def weightedSum(self):\n",
    "        return (0.2*self.cosSimilarity() + 0.006*self.fuzzyMarks()+0.2*self.bigramSimilarity())*self.fullMarks \n",
    "    \n",
    "    def printMarks(self):\n",
    "        print(\"Marks: \",self.marks,\"/\",self.fullMarks)"
   ]
  },
  {
   "cell_type": "code",
   "execution_count": 28,
   "metadata": {},
   "outputs": [],
   "source": [
    "doc1 = \"LeBron James is a basketball legend who is not better than Michael Jordan - says Charles Barkley\"\n",
    "doc2 = \"Kobe Bryant is the better Than LeBron James as a basketball player\"\n",
    "fullMarks = 2\n",
    "similarity = Eval(doc1,doc2,fullMarks)"
   ]
  },
  {
   "cell_type": "code",
   "execution_count": 29,
   "metadata": {},
   "outputs": [
    {
     "name": "stdout",
     "output_type": "stream",
     "text": [
      "Marks:  1.3080116165254674 / 2\n"
     ]
    }
   ],
   "source": [
    "similarity.printMarks()"
   ]
  },
  {
   "cell_type": "code",
   "execution_count": 8,
   "metadata": {},
   "outputs": [
    {
     "data": {
      "text/plain": [
       "0.47809144373375745"
      ]
     },
     "execution_count": 8,
     "metadata": {},
     "output_type": "execute_result"
    }
   ],
   "source": [
    "similarity.cosSimilarity()\n"
   ]
  },
  {
   "cell_type": "code",
   "execution_count": 9,
   "metadata": {},
   "outputs": [
    {
     "name": "stderr",
     "output_type": "stream",
     "text": [
      "[nltk_data] Downloading package punkt to\n",
      "[nltk_data]     C:\\Users\\Asus\\AppData\\Roaming\\nltk_data...\n",
      "[nltk_data]   Package punkt is already up-to-date!\n"
     ]
    }
   ],
   "source": [
    "import nltk, string, numpy\n",
    "nltk.download('punkt') # first-time use only\n",
    "stemmer = nltk.stem.porter.PorterStemmer() \n",
    "def StemTokens(tokens):\n",
    "    return [stemmer.stem(token) for token in tokens]\n",
    "remove_punct_dict = dict((ord(punct), None) for punct in string.punctuation)\n",
    "def StemNormalize(text):\n",
    "    return StemTokens(nltk.word_tokenize(text.lower().translate(remove_punct_dict)))"
   ]
  },
  {
   "cell_type": "code",
   "execution_count": 10,
   "metadata": {},
   "outputs": [
    {
     "data": {
      "text/plain": [
       "['lebron',\n",
       " 'jame',\n",
       " 'is',\n",
       " 'a',\n",
       " 'basketbal',\n",
       " 'legend',\n",
       " 'who',\n",
       " 'is',\n",
       " 'not',\n",
       " 'better',\n",
       " 'than',\n",
       " 'michael',\n",
       " 'jordan',\n",
       " 'say',\n",
       " 'charl',\n",
       " 'barkley']"
      ]
     },
     "execution_count": 10,
     "metadata": {},
     "output_type": "execute_result"
    }
   ],
   "source": [
    "StemNormalize(doc1)"
   ]
  },
  {
   "cell_type": "code",
   "execution_count": 11,
   "metadata": {},
   "outputs": [],
   "source": [
    "lemmer = nltk.stem.WordNetLemmatizer()\n",
    "import string\n",
    "def LemTokens(tokens):\n",
    "    return [lemmer.lemmatize(token) for token in tokens]\n",
    "\n",
    "def LemNormalize(text):\n",
    "    remove_punct_dict = dict((ord(punct), None) for punct in string.punctuation)\n",
    "    return LemTokens(nltk.word_tokenize(text.lower().translate(remove_punct_dict)))"
   ]
  },
  {
   "cell_type": "code",
   "execution_count": 12,
   "metadata": {},
   "outputs": [
    {
     "data": {
      "text/plain": [
       "['lebron',\n",
       " 'james',\n",
       " 'is',\n",
       " 'a',\n",
       " 'basketball',\n",
       " 'legend',\n",
       " 'who',\n",
       " 'is',\n",
       " 'not',\n",
       " 'better',\n",
       " 'than',\n",
       " 'michael',\n",
       " 'jordan',\n",
       " 'say',\n",
       " 'charles',\n",
       " 'barkley']"
      ]
     },
     "execution_count": 12,
     "metadata": {},
     "output_type": "execute_result"
    }
   ],
   "source": [
    "LemNormalize(doc1)"
   ]
  },
  {
   "cell_type": "code",
   "execution_count": 15,
   "metadata": {},
   "outputs": [
    {
     "name": "stderr",
     "output_type": "stream",
     "text": [
      "C:\\Users\\Asus\\anaconda3\\lib\\site-packages\\fuzzywuzzy\\fuzz.py:11: UserWarning: Using slow pure-python SequenceMatcher. Install python-Levenshtein to remove this warning\n",
      "  warnings.warn('Using slow pure-python SequenceMatcher. Install python-Levenshtein to remove this warning')\n"
     ]
    }
   ],
   "source": [
    "from fuzzywuzzy import process\n",
    "from fuzzywuzzy import fuzz"
   ]
  },
  {
   "cell_type": "code",
   "execution_count": null,
   "metadata": {},
   "outputs": [],
   "source": []
  }
 ],
 "metadata": {
  "kernelspec": {
   "display_name": "Python 3",
   "language": "python",
   "name": "python3"
  },
  "language_info": {
   "codemirror_mode": {
    "name": "ipython",
    "version": 3
   },
   "file_extension": ".py",
   "mimetype": "text/x-python",
   "name": "python",
   "nbconvert_exporter": "python",
   "pygments_lexer": "ipython3",
   "version": "3.8.5"
  }
 },
 "nbformat": 4,
 "nbformat_minor": 4
}
