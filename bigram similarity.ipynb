{
 "cells": [
  {
   "cell_type": "code",
   "execution_count": 13,
   "metadata": {},
   "outputs": [
    {
     "name": "stderr",
     "output_type": "stream",
     "text": [
      "[nltk_data] Downloading package punkt to\n",
      "[nltk_data]     C:\\Users\\Asus\\AppData\\Roaming\\nltk_data...\n",
      "[nltk_data]   Package punkt is already up-to-date!\n"
     ]
    },
    {
     "data": {
      "text/plain": [
       "True"
      ]
     },
     "execution_count": 13,
     "metadata": {},
     "output_type": "execute_result"
    }
   ],
   "source": [
    "import nltk\n",
    "nltk.download('punkt')"
   ]
  },
  {
   "cell_type": "code",
   "execution_count": 14,
   "metadata": {},
   "outputs": [],
   "source": [
    "text1=\" This is the best place to learn Data Science Learner\"\n",
    "text2=\"This is the best place ever\"\n",
    "tokens1 = nltk.word_tokenize(text1)\n",
    "tokens2 = nltk.word_tokenize(text2)"
   ]
  },
  {
   "cell_type": "code",
   "execution_count": 15,
   "metadata": {},
   "outputs": [],
   "source": [
    "bigrams1 = nltk.bigrams(tokens1)\n",
    "bigrams2 = nltk.bigrams(tokens2)"
   ]
  },
  {
   "cell_type": "code",
   "execution_count": 16,
   "metadata": {},
   "outputs": [
    {
     "name": "stdout",
     "output_type": "stream",
     "text": [
      "('This', 'is') 1\n",
      "('is', 'the') 1\n",
      "('the', 'best') 1\n",
      "('best', 'place') 1\n",
      "('place', 'to') 1\n",
      "('to', 'learn') 1\n",
      "('learn', 'Data') 1\n",
      "('Data', 'Science') 1\n",
      "('Science', 'Learner') 1\n"
     ]
    }
   ],
   "source": [
    "frequency1 = nltk.FreqDist(bigrams1)\n",
    "for key,value in frequency.items():\n",
    "    print(key,value)"
   ]
  },
  {
   "cell_type": "code",
   "execution_count": 17,
   "metadata": {},
   "outputs": [
    {
     "name": "stdout",
     "output_type": "stream",
     "text": [
      "('This', 'is') 1\n",
      "('is', 'the') 1\n",
      "('the', 'best') 1\n",
      "('best', 'place') 1\n",
      "('place', 'ever') 1\n"
     ]
    }
   ],
   "source": [
    "frequency2 = nltk.FreqDist(bigrams2)\n",
    "for key,value in frequency2.items():\n",
    "    print(key,value)"
   ]
  },
  {
   "cell_type": "code",
   "execution_count": 18,
   "metadata": {},
   "outputs": [],
   "source": [
    "count=0\n",
    "for key in frequency1.items():\n",
    "    if key in frequency2.items():\n",
    "        count=count+1\n",
    "        "
   ]
  },
  {
   "cell_type": "code",
   "execution_count": 19,
   "metadata": {},
   "outputs": [
    {
     "data": {
      "text/plain": [
       "4"
      ]
     },
     "execution_count": 19,
     "metadata": {},
     "output_type": "execute_result"
    }
   ],
   "source": [
    "count"
   ]
  },
  {
   "cell_type": "code",
   "execution_count": 24,
   "metadata": {},
   "outputs": [
    {
     "data": {
      "text/plain": [
       "0.5714285714285714"
      ]
     },
     "execution_count": 24,
     "metadata": {},
     "output_type": "execute_result"
    }
   ],
   "source": [
    "l1=len(frequency1)\n",
    "l2=len(frequency2)\n",
    "avg=(l1+l2)/2\n",
    "similarity=count/avg\n",
    "similarity"
   ]
  },
  {
   "cell_type": "code",
   "execution_count": null,
   "metadata": {},
   "outputs": [],
   "source": []
  }
 ],
 "metadata": {
  "kernelspec": {
   "display_name": "Python 3",
   "language": "python",
   "name": "python3"
  },
  "language_info": {
   "codemirror_mode": {
    "name": "ipython",
    "version": 3
   },
   "file_extension": ".py",
   "mimetype": "text/x-python",
   "name": "python",
   "nbconvert_exporter": "python",
   "pygments_lexer": "ipython3",
   "version": "3.8.5"
  }
 },
 "nbformat": 4,
 "nbformat_minor": 4
}
